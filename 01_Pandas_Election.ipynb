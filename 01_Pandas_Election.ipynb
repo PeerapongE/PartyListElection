{
 "cells": [
  {
   "cell_type": "markdown",
   "metadata": {},
   "source": [
    "# Python: คำนวณ สส ในสภา แบบ พรรคเล็กได้ สส.\n",
    "\n",
    "<img src=\"Pic_data/Python_Logo.png\" width = 400>\n",
    "\n",
    "\n",
    "<img src=\"Pic_data/PY-01_Elephant.jpg\" style=\"width: 400px;\">\n",
    "\n",
    "https://www.facebook.com/elephant.data.th/"
   ]
  },
  {
   "cell_type": "markdown",
   "metadata": {},
   "source": [
    "## Objective\n",
    "* เข้าใจระบบการคำนวณ สส โดยใช้ pandas dataframe manipulation\n",
    "\n",
    "## Calculation Reference\n",
    "* https://workpointnews.com/2019/04/02/%E0%B9%80%E0%B8%9B%E0%B8%B4%E0%B8%94%E0%B8%A7%E0%B8%B4%E0%B8%98%E0%B8%B5%E0%B8%84%E0%B8%B4%E0%B8%94-2-%E0%B8%AA%E0%B8%B9%E0%B8%95%E0%B8%A3%E0%B8%84%E0%B8%B3%E0%B8%99%E0%B8%A7%E0%B8%93-%E0%B8%AA/\n",
    "\n",
    "## Data Source\n",
    "\n",
    "* http://news.thaipbs.or.th/content/278820?fbclid=IwAR2JicWI_KErRVugqB11fNpJqejTbNDDfHDTrxEHiKyrtMm9qznA1eC2v2k"
   ]
  },
  {
   "cell_type": "markdown",
   "metadata": {},
   "source": [
    "## 1. Load data"
   ]
  },
  {
   "cell_type": "code",
   "execution_count": null,
   "metadata": {},
   "outputs": [],
   "source": [
    "import pandas as pd"
   ]
  },
  {
   "cell_type": "code",
   "execution_count": null,
   "metadata": {},
   "outputs": [],
   "source": [
    "# https://pandas.pydata.org/pandas-docs/stable/reference/api/pandas.read_excel.html\n",
    "\n",
    "main_df  = pd.read_excel(io = 'Election_62_input.xlsx',\n",
    "                         index_col = 0)\n",
    "main_df"
   ]
  },
  {
   "cell_type": "markdown",
   "metadata": {},
   "source": [
    "## 2. คำนวณ vote ทั้งหมด และ จำนวน vote ที่ต้องได้ต่อ สส party list 1 คน"
   ]
  },
  {
   "cell_type": "code",
   "execution_count": null,
   "metadata": {},
   "outputs": [],
   "source": [
    "# จำนวน vote ท้ังหมด\n",
    "\n",
    "vote_total_absolute = main_df['total_score'].sum()\n",
    "vote_total_absolute "
   ]
  },
  {
   "cell_type": "code",
   "execution_count": null,
   "metadata": {},
   "outputs": [],
   "source": [
    "# จำนวน vote ท้ังหมด คิดเฉพาะ พรรคที่ส่ง party list\n",
    "\n",
    "vote_total = main_df[main_df['join_party_list'] == 'Y']['total_score'].sum()\n",
    "vote_total"
   ]
  },
  {
   "cell_type": "code",
   "execution_count": null,
   "metadata": {},
   "outputs": [],
   "source": [
    "# define total rep (จำนวน สส ทั้งหมด)\n",
    "\n",
    "rep_total  = 500\n",
    "rep_total"
   ]
  },
  {
   "cell_type": "code",
   "execution_count": null,
   "metadata": {},
   "outputs": [],
   "source": [
    "# จำนวน vote ที่ต้องมีเพื่อ ได้ สส party list 1 คน\n",
    "\n",
    "vote_per_rep = vote_total / rep_total\n",
    "vote_per_rep"
   ]
  },
  {
   "cell_type": "markdown",
   "metadata": {},
   "source": [
    "## 3. คำนวณ สส พึงมี (เพดานที่แต่ละพรรคจะมีได้)"
   ]
  },
  {
   "cell_type": "code",
   "execution_count": null,
   "metadata": {},
   "outputs": [],
   "source": [
    "# จำนวน สส พึงมี คือ vote / สส ที่ require สส 1 คน\n",
    "# การคำนวณอีกแบบ จะใกล้เคียงค่านี้\n",
    "\n",
    "main_df['rep_expect'] = main_df['total_score'] / vote_per_rep\n",
    "main_df"
   ]
  },
  {
   "cell_type": "markdown",
   "metadata": {},
   "source": [
    "## 4. คำนวณ สส party list ของแต่ละพรรค"
   ]
  },
  {
   "cell_type": "code",
   "execution_count": null,
   "metadata": {},
   "outputs": [],
   "source": [
    "# จำนวน สส party list ที่มี คือ rep_expect - rep_district (สส พีงมี - สส เขต)\n",
    "\n",
    "main_df['rep_party_list'] =  main_df['rep_expect'] - main_df['rep_district']\n",
    "main_df"
   ]
  },
  {
   "cell_type": "markdown",
   "metadata": {},
   "source": [
    "## 5. กรณี พรรค เพื่อไทย มี สส party list ติดลบ จะปรับเป็น 0"
   ]
  },
  {
   "cell_type": "code",
   "execution_count": null,
   "metadata": {},
   "outputs": [],
   "source": [
    "# เลือก เฉพาะ พรรค ที่ สส party list ติดลบ ให้ = 0\n",
    "\n",
    "main_df.loc[main_df['rep_party_list'] < 0,'rep_party_list'] = 0\n",
    "main_df"
   ]
  },
  {
   "cell_type": "markdown",
   "metadata": {},
   "source": [
    "## 6. คำนวณ สส Party List รวม\n"
   ]
  },
  {
   "cell_type": "code",
   "execution_count": null,
   "metadata": {},
   "outputs": [],
   "source": [
    "# รวม สส ที่มี จาก สส party list ในตาราง รวมกับ พรรค ที่ไม่มีในตาราง\n",
    "party_list_sum = main_df['rep_party_list'].sum()\n",
    "party_list_sum "
   ]
  },
  {
   "cell_type": "markdown",
   "metadata": {},
   "source": [
    "## 7. จะพบว่า จำนวน สส มีเกิน 150 คน\n",
    "\n",
    "#### เทียบบรรญัติไตรยางค์ใหม่ ให้ได้ สส party list รวมเป็น 150\n",
    "\n",
    "โดยการ คูณ 150 / 175.5321"
   ]
  },
  {
   "cell_type": "code",
   "execution_count": null,
   "metadata": {},
   "outputs": [],
   "source": [
    "# normalize จำนวน สส\n",
    "\n",
    "main_df['rep_party_list_norm'] = main_df['rep_party_list'] * 150 / party_list_sum \n",
    "main_df"
   ]
  },
  {
   "cell_type": "markdown",
   "metadata": {},
   "source": [
    "## 8. แจก สส รอบจำนวนเต็ม"
   ]
  },
  {
   "cell_type": "code",
   "execution_count": null,
   "metadata": {},
   "outputs": [],
   "source": [
    "# คิดเฉพาะ จำนวนเต็มที่ได้ก่อน แล้วแจก สส party list ตามจำนวนเต็ม\n",
    "\n",
    "main_df['rep_party_list_norm_int'] = main_df['rep_party_list_norm'].apply(int)\n",
    "main_df"
   ]
  },
  {
   "cell_type": "markdown",
   "metadata": {},
   "source": [
    "## 9. คำนวณ สส รวม รอบจำนวนเต็ม และ จำนวน สส ที่ต้องแจกเพิ่มในรอบเศษส่วน"
   ]
  },
  {
   "cell_type": "code",
   "execution_count": null,
   "metadata": {},
   "outputs": [],
   "source": [
    "# ทำ summation รอบจำนวนเต็ม\n",
    "\n",
    "total_rep_int = main_df['rep_party_list_norm_int'].sum()\n",
    "total_rep_int"
   ]
  },
  {
   "cell_type": "code",
   "execution_count": null,
   "metadata": {},
   "outputs": [],
   "source": [
    "# มี สส ที่ต้องกระจายเพิ่ม 150 - 129 = 21\n",
    "\n",
    "remain_rep = 150 - total_rep_int\n",
    "remain_rep"
   ]
  },
  {
   "cell_type": "markdown",
   "metadata": {},
   "source": [
    "## 10. คำนวณเฉพาะ สส ที่เป็นเศษ หลังจากการปัดจำนวนเต็ม"
   ]
  },
  {
   "cell_type": "code",
   "execution_count": null,
   "metadata": {},
   "outputs": [],
   "source": [
    "# คำนวณเฉพาะค่าเศษ (fraction)\n",
    "\n",
    "main_df['rep_party_list_norm_fraction'] = main_df['rep_party_list_norm'] - main_df['rep_party_list_norm_int']\n",
    "main_df"
   ]
  },
  {
   "cell_type": "markdown",
   "metadata": {},
   "source": [
    "## 11. กระจายเพิ่มอีก 21 ที่นั่ง ตามเศษที่เยอะก่อน ผ่านการ sorting"
   ]
  },
  {
   "cell_type": "code",
   "execution_count": null,
   "metadata": {},
   "outputs": [],
   "source": [
    "# ทำการ sort โดยใส่ค่า ranking ไป ตามการ sort descending จากมากไปน้อย (ค่ามากจะมี score ranking ต่ำกว่า)\n",
    "\n",
    "main_df['fraction_rank'] = main_df['rep_party_list_norm_fraction'].rank(ascending = False)\n",
    "main_df"
   ]
  },
  {
   "cell_type": "markdown",
   "metadata": {},
   "source": [
    "## 12. เลือกพรรคที่มีโอกาสได้ สส เพิ่มจากรอบสัดส่วน  21 อันดับตาม fraction"
   ]
  },
  {
   "cell_type": "code",
   "execution_count": null,
   "metadata": {},
   "outputs": [],
   "source": [
    "main_df[main_df['fraction_rank'] <= 21]"
   ]
  },
  {
   "cell_type": "markdown",
   "metadata": {},
   "source": [
    "## 13. แจก สส เพิ่ม จากรอบสัดส่วน"
   ]
  },
  {
   "cell_type": "code",
   "execution_count": null,
   "metadata": {},
   "outputs": [],
   "source": [
    "# initialize ค่า rep จากรอบสัดส่วนเป็น 0 ก่อน\n",
    "\n",
    "main_df['rep_add_fraction'] = 0\n",
    "main_df"
   ]
  },
  {
   "cell_type": "code",
   "execution_count": null,
   "metadata": {},
   "outputs": [],
   "source": [
    "# แจก สส เพิ่มเติม จาก รอบสัดส่วน\n",
    "\n",
    "main_df.loc[main_df['fraction_rank'] <= 21,'rep_add_fraction'] = 1\n",
    "\n",
    "main_df\n",
    "# main_df.loc['rep_add_fraction'][main_df['fraction_rank'] <= 21] = 1\n",
    "# main_df"
   ]
  },
  {
   "cell_type": "markdown",
   "metadata": {},
   "source": [
    "## 14. คำนวณ สส ทั้งหมดที่ได้ จาก partylist ทั้งหมด"
   ]
  },
  {
   "cell_type": "code",
   "execution_count": null,
   "metadata": {
    "scrolled": false
   },
   "outputs": [],
   "source": [
    "# รวม party list จากรอบจำนวนเต็ม และ รอบ สัดส่วน\n",
    "\n",
    "main_df['Final_Party_List'] = main_df['rep_party_list_norm_int'] + main_df['rep_add_fraction'] \n",
    "main_df"
   ]
  },
  {
   "cell_type": "markdown",
   "metadata": {},
   "source": [
    "## 15. คำนวณ สส ที่ได้ทั้งหมด"
   ]
  },
  {
   "cell_type": "code",
   "execution_count": null,
   "metadata": {},
   "outputs": [],
   "source": [
    "## สส ทั้งหมด คือ rep district (สส เขต) + สส Party list final (party list หลังจากการคำนวณอันซับซ้อนด้านบน)\n",
    "\n",
    "main_df['Final_rep'] = main_df['rep_district'] + main_df['Final_Party_List']\n",
    "main_df"
   ]
  },
  {
   "cell_type": "markdown",
   "metadata": {},
   "source": [
    "## 16. Select only useful column for exporting"
   ]
  },
  {
   "cell_type": "code",
   "execution_count": null,
   "metadata": {},
   "outputs": [],
   "source": [
    "summary_df = main_df[['Party','total_score','rep_district','Final_Party_List','Final_rep']]\n",
    "summary_df"
   ]
  },
  {
   "cell_type": "markdown",
   "metadata": {},
   "source": [
    "## 17. Export to excel file"
   ]
  },
  {
   "cell_type": "code",
   "execution_count": null,
   "metadata": {},
   "outputs": [],
   "source": [
    "summary_df.to_excel('Election_62_out.xlsx')"
   ]
  }
 ],
 "metadata": {
  "kernelspec": {
   "display_name": "Python 3",
   "language": "python",
   "name": "python3"
  },
  "language_info": {
   "codemirror_mode": {
    "name": "ipython",
    "version": 3
   },
   "file_extension": ".py",
   "mimetype": "text/x-python",
   "name": "python",
   "nbconvert_exporter": "python",
   "pygments_lexer": "ipython3",
   "version": "3.7.0"
  }
 },
 "nbformat": 4,
 "nbformat_minor": 2
}
